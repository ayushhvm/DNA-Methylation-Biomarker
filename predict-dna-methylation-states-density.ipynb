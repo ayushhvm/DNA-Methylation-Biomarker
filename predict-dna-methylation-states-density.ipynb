{
 "cells": [
  {
   "cell_type": "code",
   "execution_count": 1,
   "metadata": {
    "_cell_guid": "b1076dfc-b9ad-4769-8c92-a6c4dae69d19",
    "_uuid": "8f2839f25d086af736a60e9eeb907d3b93b6e0e5",
    "execution": {
     "iopub.execute_input": "2022-06-18T14:12:42.336147Z",
     "iopub.status.busy": "2022-06-18T14:12:42.335472Z",
     "iopub.status.idle": "2022-06-18T14:12:43.374122Z",
     "shell.execute_reply": "2022-06-18T14:12:43.373506Z",
     "shell.execute_reply.started": "2022-06-18T14:00:32.510150Z"
    },
    "papermill": {
     "duration": 1.054155,
     "end_time": "2022-06-18T14:12:43.374296",
     "exception": false,
     "start_time": "2022-06-18T14:12:42.320141",
     "status": "completed"
    },
    "tags": []
   },
   "outputs": [],
   "source": [
    "import pandas as pd \n",
    "import numpy as np\n",
    "from sklearn.linear_model import LogisticRegression\n",
    "from sklearn.metrics import roc_auc_score\n",
    "from sklearn.metrics import classification_report\n",
    "from scipy import signal"
   ]
  },
  {
   "cell_type": "code",
   "execution_count": 2,
   "metadata": {
    "execution": {
     "iopub.execute_input": "2022-06-18T14:12:43.404991Z",
     "iopub.status.busy": "2022-06-18T14:12:43.404306Z",
     "iopub.status.idle": "2022-06-18T14:12:44.777390Z",
     "shell.execute_reply": "2022-06-18T14:12:44.777963Z",
     "shell.execute_reply.started": "2022-06-18T14:00:34.686904Z"
    },
    "papermill": {
     "duration": 1.392304,
     "end_time": "2022-06-18T14:12:44.778110",
     "exception": false,
     "start_time": "2022-06-18T14:12:43.385806",
     "status": "completed"
    },
    "tags": []
   },
   "outputs": [
    {
     "data": {
      "text/html": [
       "<div>\n",
       "<style scoped>\n",
       "    .dataframe tbody tr th:only-of-type {\n",
       "        vertical-align: middle;\n",
       "    }\n",
       "\n",
       "    .dataframe tbody tr th {\n",
       "        vertical-align: top;\n",
       "    }\n",
       "\n",
       "    .dataframe thead th {\n",
       "        text-align: right;\n",
       "    }\n",
       "</style>\n",
       "<table border=\"1\" class=\"dataframe\">\n",
       "  <thead>\n",
       "    <tr style=\"text-align: right;\">\n",
       "      <th></th>\n",
       "      <th>CHR</th>\n",
       "      <th>MAPINFO</th>\n",
       "      <th>UCSC_CpG_Islands_Name</th>\n",
       "      <th>UCSC_RefGene_Group</th>\n",
       "      <th>Relation_to_UCSC_CpG_Island</th>\n",
       "      <th>Regulatory_Feature_Group</th>\n",
       "      <th>Forward_Sequence</th>\n",
       "      <th>seq</th>\n",
       "      <th>Beta</th>\n",
       "    </tr>\n",
       "    <tr>\n",
       "      <th>Id</th>\n",
       "      <th></th>\n",
       "      <th></th>\n",
       "      <th></th>\n",
       "      <th></th>\n",
       "      <th></th>\n",
       "      <th></th>\n",
       "      <th></th>\n",
       "      <th></th>\n",
       "      <th></th>\n",
       "    </tr>\n",
       "  </thead>\n",
       "  <tbody>\n",
       "    <tr>\n",
       "      <th>cg00001583</th>\n",
       "      <td>1</td>\n",
       "      <td>200011786</td>\n",
       "      <td>chr1:200011400-200012055</td>\n",
       "      <td>Body;Body</td>\n",
       "      <td>Island</td>\n",
       "      <td>NaN</td>\n",
       "      <td>CGCCGTTGGGTAGCAGGAGGTAGAGCCTAGGCGAGAGCCTGGTGCG...</td>\n",
       "      <td>GCGCTTCTTTGCCCCGATGAGTTCGCCTCCCCAAACGCCTACTTCG...</td>\n",
       "      <td>0</td>\n",
       "    </tr>\n",
       "    <tr>\n",
       "      <th>cg00002719</th>\n",
       "      <td>1</td>\n",
       "      <td>169396706</td>\n",
       "      <td>chr1:169396621-169396869</td>\n",
       "      <td>TSS200</td>\n",
       "      <td>Island</td>\n",
       "      <td>NaN</td>\n",
       "      <td>GGACCACACTGCCATGGCAACAGCGTGCCTCTGCGTCCTCCATCCG...</td>\n",
       "      <td>AGTAAGAGACGGAAATAAATTCCTTCCTCCCTGAGTGTCTGGTAAA...</td>\n",
       "      <td>0</td>\n",
       "    </tr>\n",
       "    <tr>\n",
       "      <th>cg00003202</th>\n",
       "      <td>1</td>\n",
       "      <td>151319512</td>\n",
       "      <td>chr1:151319326-151319545</td>\n",
       "      <td>5'UTR;5'UTR</td>\n",
       "      <td>Island</td>\n",
       "      <td>Promoter_Associated</td>\n",
       "      <td>TGCAAAGTGGAGCGGGGGTGGGGCGGGGTAGCGGAACTCATGCGCT...</td>\n",
       "      <td>AAAGGACTGAAATGCCCAGCAGGTGCTCAAGAATTGCTACCATGGC...</td>\n",
       "      <td>0</td>\n",
       "    </tr>\n",
       "    <tr>\n",
       "      <th>cg00007036</th>\n",
       "      <td>1</td>\n",
       "      <td>33742089</td>\n",
       "      <td>chr1:33741774-33742381</td>\n",
       "      <td>Body</td>\n",
       "      <td>Island</td>\n",
       "      <td>NaN</td>\n",
       "      <td>GTCGGCCTCGTCGCAGCAGCCGTTGCTAGTGCCGCCGGCACCCGCC...</td>\n",
       "      <td>TTCTTGAAGATAACTTTCCAGAAGTACAATTTCTTGAGTCAAAGGG...</td>\n",
       "      <td>1</td>\n",
       "    </tr>\n",
       "    <tr>\n",
       "      <th>cg00007898</th>\n",
       "      <td>1</td>\n",
       "      <td>205180627</td>\n",
       "      <td>chr1:205179963-205180910</td>\n",
       "      <td>1stExon;1stExon</td>\n",
       "      <td>Island</td>\n",
       "      <td>Promoter_Associated</td>\n",
       "      <td>GGCCGAAGCCCCGGCACAGCTCGCGGATCATTCCGCCGCCGCCGGG...</td>\n",
       "      <td>AAAGGAAGCAAGACGTTAGGAAAGATTAAAGACTGCACGATTTTAA...</td>\n",
       "      <td>0</td>\n",
       "    </tr>\n",
       "  </tbody>\n",
       "</table>\n",
       "</div>"
      ],
      "text/plain": [
       "            CHR    MAPINFO     UCSC_CpG_Islands_Name UCSC_RefGene_Group  \\\n",
       "Id                                                                        \n",
       "cg00001583    1  200011786  chr1:200011400-200012055          Body;Body   \n",
       "cg00002719    1  169396706  chr1:169396621-169396869             TSS200   \n",
       "cg00003202    1  151319512  chr1:151319326-151319545        5'UTR;5'UTR   \n",
       "cg00007036    1   33742089    chr1:33741774-33742381               Body   \n",
       "cg00007898    1  205180627  chr1:205179963-205180910    1stExon;1stExon   \n",
       "\n",
       "           Relation_to_UCSC_CpG_Island Regulatory_Feature_Group  \\\n",
       "Id                                                                \n",
       "cg00001583                      Island                      NaN   \n",
       "cg00002719                      Island                      NaN   \n",
       "cg00003202                      Island      Promoter_Associated   \n",
       "cg00007036                      Island                      NaN   \n",
       "cg00007898                      Island      Promoter_Associated   \n",
       "\n",
       "                                             Forward_Sequence  \\\n",
       "Id                                                              \n",
       "cg00001583  CGCCGTTGGGTAGCAGGAGGTAGAGCCTAGGCGAGAGCCTGGTGCG...   \n",
       "cg00002719  GGACCACACTGCCATGGCAACAGCGTGCCTCTGCGTCCTCCATCCG...   \n",
       "cg00003202  TGCAAAGTGGAGCGGGGGTGGGGCGGGGTAGCGGAACTCATGCGCT...   \n",
       "cg00007036  GTCGGCCTCGTCGCAGCAGCCGTTGCTAGTGCCGCCGGCACCCGCC...   \n",
       "cg00007898  GGCCGAAGCCCCGGCACAGCTCGCGGATCATTCCGCCGCCGCCGGG...   \n",
       "\n",
       "                                                          seq  Beta  \n",
       "Id                                                                   \n",
       "cg00001583  GCGCTTCTTTGCCCCGATGAGTTCGCCTCCCCAAACGCCTACTTCG...     0  \n",
       "cg00002719  AGTAAGAGACGGAAATAAATTCCTTCCTCCCTGAGTGTCTGGTAAA...     0  \n",
       "cg00003202  AAAGGACTGAAATGCCCAGCAGGTGCTCAAGAATTGCTACCATGGC...     0  \n",
       "cg00007036  TTCTTGAAGATAACTTTCCAGAAGTACAATTTCTTGAGTCAAAGGG...     1  \n",
       "cg00007898  AAAGGAAGCAAGACGTTAGGAAAGATTAAAGACTGCACGATTTTAA...     0  "
      ]
     },
     "execution_count": 2,
     "metadata": {},
     "output_type": "execute_result"
    }
   ],
   "source": [
    "train='train.csv'\n",
    "df=pd.read_csv(train,index_col=0)\n",
    "df.head()"
   ]
  },
  {
   "cell_type": "code",
   "execution_count": 3,
   "metadata": {
    "execution": {
     "iopub.execute_input": "2022-06-18T14:12:44.806258Z",
     "iopub.status.busy": "2022-06-18T14:12:44.805566Z",
     "iopub.status.idle": "2022-06-18T14:12:44.821301Z",
     "shell.execute_reply": "2022-06-18T14:12:44.820718Z",
     "shell.execute_reply.started": "2022-06-18T14:00:38.562442Z"
    },
    "papermill": {
     "duration": 0.030778,
     "end_time": "2022-06-18T14:12:44.821443",
     "exception": false,
     "start_time": "2022-06-18T14:12:44.790665",
     "status": "completed"
    },
    "tags": []
   },
   "outputs": [
    {
     "data": {
      "text/plain": [
       "Regulatory_Feature_Group\n",
       "Promoter_Associated                       11797\n",
       "Unclassified                               2084\n",
       "Unclassified_Cell_type_specific            1770\n",
       "Promoter_Associated_Cell_type_specific      457\n",
       "NonGene_Associated                          189\n",
       "Gene_Associated_Cell_type_specific           80\n",
       "Gene_Associated                              37\n",
       "NonGene_Associated_Cell_type_specific         7\n",
       "Name: count, dtype: int64"
      ]
     },
     "execution_count": 3,
     "metadata": {},
     "output_type": "execute_result"
    }
   ],
   "source": [
    "df['Regulatory_Feature_Group'].value_counts()"
   ]
  },
  {
   "cell_type": "code",
   "execution_count": 4,
   "metadata": {
    "execution": {
     "iopub.execute_input": "2022-06-18T14:12:44.860909Z",
     "iopub.status.busy": "2022-06-18T14:12:44.859918Z",
     "iopub.status.idle": "2022-06-18T14:12:44.864336Z",
     "shell.execute_reply": "2022-06-18T14:12:44.863792Z",
     "shell.execute_reply.started": "2022-06-18T14:00:40.391375Z"
    },
    "papermill": {
     "duration": 0.030567,
     "end_time": "2022-06-18T14:12:44.864463",
     "exception": false,
     "start_time": "2022-06-18T14:12:44.833896",
     "status": "completed"
    },
    "tags": []
   },
   "outputs": [
    {
     "data": {
      "text/plain": [
       "Relation_to_UCSC_CpG_Island\n",
       "Island     18269\n",
       "N_Shore     2378\n",
       "S_Shore     2107\n",
       "N_Shelf      529\n",
       "S_Shelf      434\n",
       "Name: count, dtype: int64"
      ]
     },
     "execution_count": 4,
     "metadata": {},
     "output_type": "execute_result"
    }
   ],
   "source": [
    "df['Relation_to_UCSC_CpG_Island'].value_counts()"
   ]
  },
  {
   "cell_type": "code",
   "execution_count": 5,
   "metadata": {
    "execution": {
     "iopub.execute_input": "2022-06-18T14:12:44.899467Z",
     "iopub.status.busy": "2022-06-18T14:12:44.898767Z",
     "iopub.status.idle": "2022-06-18T14:12:45.472854Z",
     "shell.execute_reply": "2022-06-18T14:12:45.473396Z",
     "shell.execute_reply.started": "2022-06-18T14:00:42.422003Z"
    },
    "papermill": {
     "duration": 0.596349,
     "end_time": "2022-06-18T14:12:45.473548",
     "exception": false,
     "start_time": "2022-06-18T14:12:44.877199",
     "status": "completed"
    },
    "tags": []
   },
   "outputs": [
    {
     "data": {
      "text/html": [
       "<div>\n",
       "<style scoped>\n",
       "    .dataframe tbody tr th:only-of-type {\n",
       "        vertical-align: middle;\n",
       "    }\n",
       "\n",
       "    .dataframe tbody tr th {\n",
       "        vertical-align: top;\n",
       "    }\n",
       "\n",
       "    .dataframe thead th {\n",
       "        text-align: right;\n",
       "    }\n",
       "</style>\n",
       "<table border=\"1\" class=\"dataframe\">\n",
       "  <thead>\n",
       "    <tr style=\"text-align: right;\">\n",
       "      <th></th>\n",
       "      <th>CHR</th>\n",
       "      <th>MAPINFO</th>\n",
       "      <th>UCSC_CpG_Islands_Name</th>\n",
       "      <th>UCSC_RefGene_Group</th>\n",
       "      <th>Relation_to_UCSC_CpG_Island</th>\n",
       "      <th>Forward_Sequence</th>\n",
       "      <th>seq</th>\n",
       "      <th>Beta</th>\n",
       "      <th>CG</th>\n",
       "      <th>TG</th>\n",
       "      <th>CA</th>\n",
       "      <th>Regulatory_Feature_Group_Gene_Associated</th>\n",
       "      <th>Regulatory_Feature_Group_Gene_Associated_Cell_type_specific</th>\n",
       "      <th>Regulatory_Feature_Group_NonGene_Associated</th>\n",
       "      <th>Regulatory_Feature_Group_NonGene_Associated_Cell_type_specific</th>\n",
       "      <th>Regulatory_Feature_Group_Promoter_Associated</th>\n",
       "      <th>Regulatory_Feature_Group_Promoter_Associated_Cell_type_specific</th>\n",
       "      <th>Regulatory_Feature_Group_Unclassified</th>\n",
       "      <th>Regulatory_Feature_Group_Unclassified_Cell_type_specific</th>\n",
       "    </tr>\n",
       "    <tr>\n",
       "      <th>Id</th>\n",
       "      <th></th>\n",
       "      <th></th>\n",
       "      <th></th>\n",
       "      <th></th>\n",
       "      <th></th>\n",
       "      <th></th>\n",
       "      <th></th>\n",
       "      <th></th>\n",
       "      <th></th>\n",
       "      <th></th>\n",
       "      <th></th>\n",
       "      <th></th>\n",
       "      <th></th>\n",
       "      <th></th>\n",
       "      <th></th>\n",
       "      <th></th>\n",
       "      <th></th>\n",
       "      <th></th>\n",
       "      <th></th>\n",
       "    </tr>\n",
       "  </thead>\n",
       "  <tbody>\n",
       "    <tr>\n",
       "      <th>cg00001583</th>\n",
       "      <td>1</td>\n",
       "      <td>200011786</td>\n",
       "      <td>chr1:200011400-200012055</td>\n",
       "      <td>Body;Body</td>\n",
       "      <td>Island</td>\n",
       "      <td>CGCCGTTGGGTAGCAGGAGGTAGAGCCTAGGCGAGAGCCTGGTGCG...</td>\n",
       "      <td>GCGCTTCTTTGCCCCGATGAGTTCGCCTCCCCAAACGCCTACTTCG...</td>\n",
       "      <td>0</td>\n",
       "      <td>64</td>\n",
       "      <td>68</td>\n",
       "      <td>44</td>\n",
       "      <td>False</td>\n",
       "      <td>False</td>\n",
       "      <td>False</td>\n",
       "      <td>False</td>\n",
       "      <td>False</td>\n",
       "      <td>False</td>\n",
       "      <td>False</td>\n",
       "      <td>False</td>\n",
       "    </tr>\n",
       "    <tr>\n",
       "      <th>cg00002719</th>\n",
       "      <td>1</td>\n",
       "      <td>169396706</td>\n",
       "      <td>chr1:169396621-169396869</td>\n",
       "      <td>TSS200</td>\n",
       "      <td>Island</td>\n",
       "      <td>GGACCACACTGCCATGGCAACAGCGTGCCTCTGCGTCCTCCATCCG...</td>\n",
       "      <td>AGTAAGAGACGGAAATAAATTCCTTCCTCCCTGAGTGTCTGGTAAA...</td>\n",
       "      <td>0</td>\n",
       "      <td>33</td>\n",
       "      <td>46</td>\n",
       "      <td>66</td>\n",
       "      <td>False</td>\n",
       "      <td>False</td>\n",
       "      <td>False</td>\n",
       "      <td>False</td>\n",
       "      <td>False</td>\n",
       "      <td>False</td>\n",
       "      <td>False</td>\n",
       "      <td>False</td>\n",
       "    </tr>\n",
       "    <tr>\n",
       "      <th>cg00003202</th>\n",
       "      <td>1</td>\n",
       "      <td>151319512</td>\n",
       "      <td>chr1:151319326-151319545</td>\n",
       "      <td>5'UTR;5'UTR</td>\n",
       "      <td>Island</td>\n",
       "      <td>TGCAAAGTGGAGCGGGGGTGGGGCGGGGTAGCGGAACTCATGCGCT...</td>\n",
       "      <td>AAAGGACTGAAATGCCCAGCAGGTGCTCAAGAATTGCTACCATGGC...</td>\n",
       "      <td>0</td>\n",
       "      <td>38</td>\n",
       "      <td>56</td>\n",
       "      <td>69</td>\n",
       "      <td>False</td>\n",
       "      <td>False</td>\n",
       "      <td>False</td>\n",
       "      <td>False</td>\n",
       "      <td>True</td>\n",
       "      <td>False</td>\n",
       "      <td>False</td>\n",
       "      <td>False</td>\n",
       "    </tr>\n",
       "    <tr>\n",
       "      <th>cg00007036</th>\n",
       "      <td>1</td>\n",
       "      <td>33742089</td>\n",
       "      <td>chr1:33741774-33742381</td>\n",
       "      <td>Body</td>\n",
       "      <td>Island</td>\n",
       "      <td>GTCGGCCTCGTCGCAGCAGCCGTTGCTAGTGCCGCCGGCACCCGCC...</td>\n",
       "      <td>TTCTTGAAGATAACTTTCCAGAAGTACAATTTCTTGAGTCAAAGGG...</td>\n",
       "      <td>1</td>\n",
       "      <td>66</td>\n",
       "      <td>58</td>\n",
       "      <td>68</td>\n",
       "      <td>False</td>\n",
       "      <td>False</td>\n",
       "      <td>False</td>\n",
       "      <td>False</td>\n",
       "      <td>False</td>\n",
       "      <td>False</td>\n",
       "      <td>False</td>\n",
       "      <td>False</td>\n",
       "    </tr>\n",
       "    <tr>\n",
       "      <th>cg00007898</th>\n",
       "      <td>1</td>\n",
       "      <td>205180627</td>\n",
       "      <td>chr1:205179963-205180910</td>\n",
       "      <td>1stExon;1stExon</td>\n",
       "      <td>Island</td>\n",
       "      <td>GGCCGAAGCCCCGGCACAGCTCGCGGATCATTCCGCCGCCGCCGGG...</td>\n",
       "      <td>AAAGGAAGCAAGACGTTAGGAAAGATTAAAGACTGCACGATTTTAA...</td>\n",
       "      <td>0</td>\n",
       "      <td>85</td>\n",
       "      <td>55</td>\n",
       "      <td>46</td>\n",
       "      <td>False</td>\n",
       "      <td>False</td>\n",
       "      <td>False</td>\n",
       "      <td>False</td>\n",
       "      <td>True</td>\n",
       "      <td>False</td>\n",
       "      <td>False</td>\n",
       "      <td>False</td>\n",
       "    </tr>\n",
       "  </tbody>\n",
       "</table>\n",
       "</div>"
      ],
      "text/plain": [
       "            CHR    MAPINFO     UCSC_CpG_Islands_Name UCSC_RefGene_Group  \\\n",
       "Id                                                                        \n",
       "cg00001583    1  200011786  chr1:200011400-200012055          Body;Body   \n",
       "cg00002719    1  169396706  chr1:169396621-169396869             TSS200   \n",
       "cg00003202    1  151319512  chr1:151319326-151319545        5'UTR;5'UTR   \n",
       "cg00007036    1   33742089    chr1:33741774-33742381               Body   \n",
       "cg00007898    1  205180627  chr1:205179963-205180910    1stExon;1stExon   \n",
       "\n",
       "           Relation_to_UCSC_CpG_Island  \\\n",
       "Id                                       \n",
       "cg00001583                      Island   \n",
       "cg00002719                      Island   \n",
       "cg00003202                      Island   \n",
       "cg00007036                      Island   \n",
       "cg00007898                      Island   \n",
       "\n",
       "                                             Forward_Sequence  \\\n",
       "Id                                                              \n",
       "cg00001583  CGCCGTTGGGTAGCAGGAGGTAGAGCCTAGGCGAGAGCCTGGTGCG...   \n",
       "cg00002719  GGACCACACTGCCATGGCAACAGCGTGCCTCTGCGTCCTCCATCCG...   \n",
       "cg00003202  TGCAAAGTGGAGCGGGGGTGGGGCGGGGTAGCGGAACTCATGCGCT...   \n",
       "cg00007036  GTCGGCCTCGTCGCAGCAGCCGTTGCTAGTGCCGCCGGCACCCGCC...   \n",
       "cg00007898  GGCCGAAGCCCCGGCACAGCTCGCGGATCATTCCGCCGCCGCCGGG...   \n",
       "\n",
       "                                                          seq  Beta  CG  TG  \\\n",
       "Id                                                                            \n",
       "cg00001583  GCGCTTCTTTGCCCCGATGAGTTCGCCTCCCCAAACGCCTACTTCG...     0  64  68   \n",
       "cg00002719  AGTAAGAGACGGAAATAAATTCCTTCCTCCCTGAGTGTCTGGTAAA...     0  33  46   \n",
       "cg00003202  AAAGGACTGAAATGCCCAGCAGGTGCTCAAGAATTGCTACCATGGC...     0  38  56   \n",
       "cg00007036  TTCTTGAAGATAACTTTCCAGAAGTACAATTTCTTGAGTCAAAGGG...     1  66  58   \n",
       "cg00007898  AAAGGAAGCAAGACGTTAGGAAAGATTAAAGACTGCACGATTTTAA...     0  85  55   \n",
       "\n",
       "            CA  Regulatory_Feature_Group_Gene_Associated  \\\n",
       "Id                                                         \n",
       "cg00001583  44                                     False   \n",
       "cg00002719  66                                     False   \n",
       "cg00003202  69                                     False   \n",
       "cg00007036  68                                     False   \n",
       "cg00007898  46                                     False   \n",
       "\n",
       "            Regulatory_Feature_Group_Gene_Associated_Cell_type_specific  \\\n",
       "Id                                                                        \n",
       "cg00001583                                              False             \n",
       "cg00002719                                              False             \n",
       "cg00003202                                              False             \n",
       "cg00007036                                              False             \n",
       "cg00007898                                              False             \n",
       "\n",
       "            Regulatory_Feature_Group_NonGene_Associated  \\\n",
       "Id                                                        \n",
       "cg00001583                                        False   \n",
       "cg00002719                                        False   \n",
       "cg00003202                                        False   \n",
       "cg00007036                                        False   \n",
       "cg00007898                                        False   \n",
       "\n",
       "            Regulatory_Feature_Group_NonGene_Associated_Cell_type_specific  \\\n",
       "Id                                                                           \n",
       "cg00001583                                              False                \n",
       "cg00002719                                              False                \n",
       "cg00003202                                              False                \n",
       "cg00007036                                              False                \n",
       "cg00007898                                              False                \n",
       "\n",
       "            Regulatory_Feature_Group_Promoter_Associated  \\\n",
       "Id                                                         \n",
       "cg00001583                                         False   \n",
       "cg00002719                                         False   \n",
       "cg00003202                                          True   \n",
       "cg00007036                                         False   \n",
       "cg00007898                                          True   \n",
       "\n",
       "            Regulatory_Feature_Group_Promoter_Associated_Cell_type_specific  \\\n",
       "Id                                                                            \n",
       "cg00001583                                              False                 \n",
       "cg00002719                                              False                 \n",
       "cg00003202                                              False                 \n",
       "cg00007036                                              False                 \n",
       "cg00007898                                              False                 \n",
       "\n",
       "            Regulatory_Feature_Group_Unclassified  \\\n",
       "Id                                                  \n",
       "cg00001583                                  False   \n",
       "cg00002719                                  False   \n",
       "cg00003202                                  False   \n",
       "cg00007036                                  False   \n",
       "cg00007898                                  False   \n",
       "\n",
       "            Regulatory_Feature_Group_Unclassified_Cell_type_specific  \n",
       "Id                                                                    \n",
       "cg00001583                                              False         \n",
       "cg00002719                                              False         \n",
       "cg00003202                                              False         \n",
       "cg00007036                                              False         \n",
       "cg00007898                                              False         "
      ]
     },
     "execution_count": 5,
     "metadata": {},
     "output_type": "execute_result"
    }
   ],
   "source": [
    "m=500\n",
    "df['CG']=df.seq.apply(lambda x:x[1000-m:1000+m].count('CG'))\n",
    "df['TG']=df.seq.apply(lambda x:x[1000-m:1000+m].count('TG'))\n",
    "df['CA']=df.seq.apply(lambda x:x[1000-m:1000+m].count('CA'))\n",
    "df=pd.get_dummies(df,columns=['Regulatory_Feature_Group'])\n",
    "df.head()"
   ]
  },
  {
   "cell_type": "code",
   "execution_count": 6,
   "metadata": {
    "execution": {
     "iopub.execute_input": "2022-06-18T14:12:45.510607Z",
     "iopub.status.busy": "2022-06-18T14:12:45.509911Z",
     "iopub.status.idle": "2022-06-18T14:12:45.711658Z",
     "shell.execute_reply": "2022-06-18T14:12:45.710858Z",
     "shell.execute_reply.started": "2022-06-18T14:00:45.527524Z"
    },
    "papermill": {
     "duration": 0.224743,
     "end_time": "2022-06-18T14:12:45.711802",
     "exception": false,
     "start_time": "2022-06-18T14:12:45.487059",
     "status": "completed"
    },
    "tags": []
   },
   "outputs": [
    {
     "name": "stdout",
     "output_type": "stream",
     "text": [
      "AUC: 0.9578166453065668\n",
      "              precision    recall  f1-score   support\n",
      "\n",
      "           0       0.91      0.95      0.93     20243\n",
      "           1       0.88      0.79      0.83      8822\n",
      "\n",
      "    accuracy                           0.90     29065\n",
      "   macro avg       0.90      0.87      0.88     29065\n",
      "weighted avg       0.90      0.90      0.90     29065\n",
      "\n"
     ]
    },
    {
     "name": "stderr",
     "output_type": "stream",
     "text": [
      "/var/folders/rj/2g4tzz5n5ldbvpk48s_rqjh40000gn/T/ipykernel_98357/1411510467.py:2: SettingWithCopyWarning: \n",
      "A value is trying to be set on a copy of a slice from a DataFrame.\n",
      "Try using .loc[row_indexer,col_indexer] = value instead\n",
      "\n",
      "See the caveats in the documentation: https://pandas.pydata.org/pandas-docs/stable/user_guide/indexing.html#returning-a-view-versus-a-copy\n",
      "  X['mutation']=(X.TG+X.CA)/(2*X.CG)\n",
      "/Users/ayushmangalgi/Ayush/Codee/Dying/EL/venv/lib/python3.13/site-packages/sklearn/linear_model/_linear_loss.py:200: RuntimeWarning: divide by zero encountered in matmul\n",
      "  raw_prediction = X @ weights + intercept\n",
      "/Users/ayushmangalgi/Ayush/Codee/Dying/EL/venv/lib/python3.13/site-packages/sklearn/linear_model/_linear_loss.py:200: RuntimeWarning: overflow encountered in matmul\n",
      "  raw_prediction = X @ weights + intercept\n",
      "/Users/ayushmangalgi/Ayush/Codee/Dying/EL/venv/lib/python3.13/site-packages/sklearn/linear_model/_linear_loss.py:200: RuntimeWarning: invalid value encountered in matmul\n",
      "  raw_prediction = X @ weights + intercept\n",
      "/Users/ayushmangalgi/Ayush/Codee/Dying/EL/venv/lib/python3.13/site-packages/sklearn/utils/extmath.py:203: RuntimeWarning: divide by zero encountered in matmul\n",
      "  ret = a @ b\n",
      "/Users/ayushmangalgi/Ayush/Codee/Dying/EL/venv/lib/python3.13/site-packages/sklearn/utils/extmath.py:203: RuntimeWarning: overflow encountered in matmul\n",
      "  ret = a @ b\n",
      "/Users/ayushmangalgi/Ayush/Codee/Dying/EL/venv/lib/python3.13/site-packages/sklearn/utils/extmath.py:203: RuntimeWarning: invalid value encountered in matmul\n",
      "  ret = a @ b\n",
      "/Users/ayushmangalgi/Ayush/Codee/Dying/EL/venv/lib/python3.13/site-packages/sklearn/utils/extmath.py:203: RuntimeWarning: divide by zero encountered in matmul\n",
      "  ret = a @ b\n",
      "/Users/ayushmangalgi/Ayush/Codee/Dying/EL/venv/lib/python3.13/site-packages/sklearn/utils/extmath.py:203: RuntimeWarning: overflow encountered in matmul\n",
      "  ret = a @ b\n",
      "/Users/ayushmangalgi/Ayush/Codee/Dying/EL/venv/lib/python3.13/site-packages/sklearn/utils/extmath.py:203: RuntimeWarning: invalid value encountered in matmul\n",
      "  ret = a @ b\n"
     ]
    }
   ],
   "source": [
    "X=df[['CG','Beta','TG','CA','Regulatory_Feature_Group_Promoter_Associated']]\n",
    "X['mutation']=(X.TG+X.CA)/(2*X.CG)\n",
    "y=X.Beta\n",
    "X=X[['mutation','Regulatory_Feature_Group_Promoter_Associated']]\n",
    "clf = LogisticRegression(random_state=0).fit(X, y)\n",
    "y=y.values\n",
    "prob=clf.predict_proba(X)\n",
    "print('AUC: '+str(roc_auc_score(y,prob[:,1])))\n",
    "pred=clf.predict(X)\n",
    "print(classification_report(y, pred))"
   ]
  },
  {
   "cell_type": "code",
   "execution_count": 7,
   "metadata": {
    "execution": {
     "iopub.execute_input": "2022-06-18T14:12:45.747582Z",
     "iopub.status.busy": "2022-06-18T14:12:45.746580Z",
     "iopub.status.idle": "2022-06-18T14:12:47.056399Z",
     "shell.execute_reply": "2022-06-18T14:12:47.057104Z",
     "shell.execute_reply.started": "2022-06-18T14:00:48.057406Z"
    },
    "papermill": {
     "duration": 1.328255,
     "end_time": "2022-06-18T14:12:47.057310",
     "exception": false,
     "start_time": "2022-06-18T14:12:45.729055",
     "status": "completed"
    },
    "tags": []
   },
   "outputs": [
    {
     "name": "stderr",
     "output_type": "stream",
     "text": [
      "/var/folders/rj/2g4tzz5n5ldbvpk48s_rqjh40000gn/T/ipykernel_98357/1810021109.py:3: SettingWithCopyWarning: \n",
      "A value is trying to be set on a copy of a slice from a DataFrame.\n",
      "Try using .loc[row_indexer,col_indexer] = value instead\n",
      "\n",
      "See the caveats in the documentation: https://pandas.pydata.org/pandas-docs/stable/user_guide/indexing.html#returning-a-view-versus-a-copy\n",
      "  X1['mutation']=(X1.TG+X1.CA)/(2*X1.CG)\n"
     ]
    },
    {
     "name": "stdout",
     "output_type": "stream",
     "text": [
      "AUC: 0.9605977158749934\n",
      "              precision    recall  f1-score   support\n",
      "\n",
      "           0       0.95      0.94      0.94     20243\n",
      "           1       0.86      0.88      0.87      8822\n",
      "\n",
      "    accuracy                           0.92     29065\n",
      "   macro avg       0.90      0.91      0.91     29065\n",
      "weighted avg       0.92      0.92      0.92     29065\n",
      "\n"
     ]
    }
   ],
   "source": [
    "from sklearn.ensemble import RandomForestClassifier\n",
    "X1=df[['CG','Beta','TG','CA','Regulatory_Feature_Group_Promoter_Associated']]\n",
    "X1['mutation']=(X1.TG+X1.CA)/(2*X1.CG)\n",
    "y1=X1.Beta\n",
    "X1=X1[['mutation','Regulatory_Feature_Group_Promoter_Associated']]\n",
    "clf1 = RandomForestClassifier(max_depth=2, random_state=0).fit(X1, y1)\n",
    "y1=y1.values\n",
    "prob1=clf1.predict_proba(X1)\n",
    "print('AUC: '+str(roc_auc_score(y1,prob1[:,1])))\n",
    "pred1=clf1.predict(X1)\n",
    "print(classification_report(y1, pred1))"
   ]
  },
  {
   "cell_type": "code",
   "execution_count": 8,
   "metadata": {
    "execution": {
     "iopub.execute_input": "2022-06-18T14:12:47.092973Z",
     "iopub.status.busy": "2022-06-18T14:12:47.091968Z",
     "iopub.status.idle": "2022-06-18T14:12:47.964456Z",
     "shell.execute_reply": "2022-06-18T14:12:47.963821Z",
     "shell.execute_reply.started": "2022-06-18T14:00:58.975644Z"
    },
    "papermill": {
     "duration": 0.890679,
     "end_time": "2022-06-18T14:12:47.964594",
     "exception": false,
     "start_time": "2022-06-18T14:12:47.073915",
     "status": "completed"
    },
    "tags": []
   },
   "outputs": [
    {
     "name": "stderr",
     "output_type": "stream",
     "text": [
      "/var/folders/rj/2g4tzz5n5ldbvpk48s_rqjh40000gn/T/ipykernel_98357/1251543718.py:3: SettingWithCopyWarning: \n",
      "A value is trying to be set on a copy of a slice from a DataFrame.\n",
      "Try using .loc[row_indexer,col_indexer] = value instead\n",
      "\n",
      "See the caveats in the documentation: https://pandas.pydata.org/pandas-docs/stable/user_guide/indexing.html#returning-a-view-versus-a-copy\n",
      "  X2['mutation']=(X2.TG+X2.CA)/(2*X2.CG)\n"
     ]
    },
    {
     "name": "stdout",
     "output_type": "stream",
     "text": [
      "AUC: 0.9578166453065668\n",
      "              precision    recall  f1-score   support\n",
      "\n",
      "           0       0.95      0.94      0.94     20243\n",
      "           1       0.86      0.89      0.88      8822\n",
      "\n",
      "    accuracy                           0.92     29065\n",
      "   macro avg       0.91      0.91      0.91     29065\n",
      "weighted avg       0.92      0.92      0.92     29065\n",
      "\n"
     ]
    }
   ],
   "source": [
    "from sklearn.ensemble import GradientBoostingClassifier\n",
    "X2=df[['CG','Beta','TG','CA','Regulatory_Feature_Group_Promoter_Associated']]\n",
    "X2['mutation']=(X2.TG+X2.CA)/(2*X2.CG)\n",
    "y2=X2.Beta\n",
    "X2=X2[['mutation','Regulatory_Feature_Group_Promoter_Associated']]\n",
    "clf2 = GradientBoostingClassifier(n_estimators=100, learning_rate=1.0,max_depth=1, random_state=0).fit(X2, y2)\n",
    "y2=y2.values\n",
    "prob2=clf2.predict_proba(X2)\n",
    "print('AUC: '+str(roc_auc_score(y2,prob[:,1])))\n",
    "pred2=clf2.predict(X2)\n",
    "print(classification_report(y2, pred2))"
   ]
  },
  {
   "cell_type": "code",
   "execution_count": 9,
   "metadata": {
    "execution": {
     "iopub.execute_input": "2022-06-18T14:12:48.001595Z",
     "iopub.status.busy": "2022-06-18T14:12:48.000493Z",
     "iopub.status.idle": "2022-06-18T14:12:49.407076Z",
     "shell.execute_reply": "2022-06-18T14:12:49.406322Z",
     "shell.execute_reply.started": "2022-06-18T14:01:13.996848Z"
    },
    "papermill": {
     "duration": 1.425942,
     "end_time": "2022-06-18T14:12:49.407263",
     "exception": false,
     "start_time": "2022-06-18T14:12:47.981321",
     "status": "completed"
    },
    "tags": []
   },
   "outputs": [
    {
     "name": "stdout",
     "output_type": "stream",
     "text": [
      "AUC: 0.9766984644839961\n"
     ]
    },
    {
     "name": "stderr",
     "output_type": "stream",
     "text": [
      "/var/folders/rj/2g4tzz5n5ldbvpk48s_rqjh40000gn/T/ipykernel_98357/1008461179.py:3: SettingWithCopyWarning: \n",
      "A value is trying to be set on a copy of a slice from a DataFrame.\n",
      "Try using .loc[row_indexer,col_indexer] = value instead\n",
      "\n",
      "See the caveats in the documentation: https://pandas.pydata.org/pandas-docs/stable/user_guide/indexing.html#returning-a-view-versus-a-copy\n",
      "  X3['mutation']=(X3.TG+X3.CA)/(2*X3.CG)\n"
     ]
    },
    {
     "name": "stdout",
     "output_type": "stream",
     "text": [
      "              precision    recall  f1-score   support\n",
      "\n",
      "           0       0.96      0.96      0.96     20243\n",
      "           1       0.90      0.90      0.90      8822\n",
      "\n",
      "    accuracy                           0.94     29065\n",
      "   macro avg       0.93      0.93      0.93     29065\n",
      "weighted avg       0.94      0.94      0.94     29065\n",
      "\n"
     ]
    }
   ],
   "source": [
    "from sklearn.neighbors import KNeighborsClassifier\n",
    "X3=df[['CG','Beta','TG','CA','Regulatory_Feature_Group_Promoter_Associated']]\n",
    "X3['mutation']=(X3.TG+X3.CA)/(2*X3.CG)\n",
    "y3=X3.Beta\n",
    "X3=X3[['mutation','Regulatory_Feature_Group_Promoter_Associated']]\n",
    "clf3 = KNeighborsClassifier(n_neighbors=3).fit(X3, y3)\n",
    "y3=y3.values\n",
    "prob3=clf3.predict_proba(X3)\n",
    "print('AUC: '+str(roc_auc_score(y3,prob3[:,1])))\n",
    "pred3=clf3.predict(X3)\n",
    "print(classification_report(y3, pred3))"
   ]
  },
  {
   "cell_type": "code",
   "execution_count": 12,
   "metadata": {
    "execution": {
     "iopub.execute_input": "2022-06-18T14:12:49.451282Z",
     "iopub.status.busy": "2022-06-18T14:12:49.450410Z",
     "iopub.status.idle": "2022-06-18T14:12:50.473410Z",
     "shell.execute_reply": "2022-06-18T14:12:50.472756Z",
     "shell.execute_reply.started": "2022-06-18T14:01:25.309548Z"
    },
    "papermill": {
     "duration": 1.048989,
     "end_time": "2022-06-18T14:12:50.473529",
     "exception": false,
     "start_time": "2022-06-18T14:12:49.424540",
     "status": "completed"
    },
    "tags": []
   },
   "outputs": [
    {
     "name": "stderr",
     "output_type": "stream",
     "text": [
      "/Users/ayushmangalgi/Ayush/Codee/Dying/EL/venv/lib/python3.13/site-packages/sklearn/utils/extmath.py:203: RuntimeWarning: divide by zero encountered in matmul\n",
      "  ret = a @ b\n",
      "/Users/ayushmangalgi/Ayush/Codee/Dying/EL/venv/lib/python3.13/site-packages/sklearn/utils/extmath.py:203: RuntimeWarning: overflow encountered in matmul\n",
      "  ret = a @ b\n",
      "/Users/ayushmangalgi/Ayush/Codee/Dying/EL/venv/lib/python3.13/site-packages/sklearn/utils/extmath.py:203: RuntimeWarning: invalid value encountered in matmul\n",
      "  ret = a @ b\n"
     ]
    },
    {
     "data": {
      "image/png": "[encoded data removed]",
      "text/plain": [
       "<Figure size 640x480 with 1 Axes>"
      ]
     },
     "metadata": {},
     "output_type": "display_data"
    },
    {
     "data": {
      "image/png": "[encoded data removed]",
      "text/plain": [
       "<Figure size 640x480 with 1 Axes>"
      ]
     },
     "metadata": {},
     "output_type": "display_data"
    },
    {
     "data": {
      "image/png": "[encoded data removed]",
      "text/plain": [
       "<Figure size 640x480 with 1 Axes>"
      ]
     },
     "metadata": {},
     "output_type": "display_data"
    },
    {
     "data": {
      "image/png": "[encoded data removed]",
      "text/plain": [
       "<Figure size 640x480 with 1 Axes>"
      ]
     },
     "metadata": {},
     "output_type": "display_data"
    }
   ],
   "source": [
    "import matplotlib.pyplot as plt\n",
    "from sklearn.metrics import RocCurveDisplay\n",
    "\n",
    "RocCurveDisplay.from_estimator(clf, X, y)\n",
    "plt.show()\n",
    "\n",
    "RocCurveDisplay.from_estimator(clf1, X1, y1)\n",
    "plt.show()\n",
    "\n",
    "RocCurveDisplay.from_estimator(clf2, X2, y2)\n",
    "plt.show()\n",
    "\n",
    "RocCurveDisplay.from_estimator(clf3, X3, y3)\n",
    "plt.show()\n"
   ]
  },
  {
   "cell_type": "code",
   "execution_count": 13,
   "metadata": {
    "execution": {
     "iopub.execute_input": "2022-06-18T14:12:50.526627Z",
     "iopub.status.busy": "2022-06-18T14:12:50.525911Z",
     "iopub.status.idle": "2022-06-18T14:12:51.816940Z",
     "shell.execute_reply": "2022-06-18T14:12:51.817580Z",
     "shell.execute_reply.started": "2022-06-18T05:17:56.951484Z"
    },
    "papermill": {
     "duration": 1.324193,
     "end_time": "2022-06-18T14:12:51.817776",
     "exception": false,
     "start_time": "2022-06-18T14:12:50.493583",
     "status": "completed"
    },
    "tags": []
   },
   "outputs": [
    {
     "name": "stderr",
     "output_type": "stream",
     "text": [
      "/Users/ayushmangalgi/Ayush/Codee/Dying/EL/venv/lib/python3.13/site-packages/sklearn/utils/extmath.py:203: RuntimeWarning: divide by zero encountered in matmul\n",
      "  ret = a @ b\n",
      "/Users/ayushmangalgi/Ayush/Codee/Dying/EL/venv/lib/python3.13/site-packages/sklearn/utils/extmath.py:203: RuntimeWarning: overflow encountered in matmul\n",
      "  ret = a @ b\n",
      "/Users/ayushmangalgi/Ayush/Codee/Dying/EL/venv/lib/python3.13/site-packages/sklearn/utils/extmath.py:203: RuntimeWarning: invalid value encountered in matmul\n",
      "  ret = a @ b\n"
     ]
    }
   ],
   "source": [
    "test='test.csv'\n",
    "df=pd.read_csv(test,index_col=0)\n",
    "df['CG']=df.seq.apply(lambda x:x[500:1500].count('CG'))\n",
    "df['TG']=df.seq.apply(lambda x:x[500:1500].count('TG'))\n",
    "df['CA']=df.seq.apply(lambda x:x[500:1500].count('CA'))\n",
    "df['mutation']=(df.TG+df.CA)/(2*df.CG)\n",
    "df=pd.get_dummies(df,columns=['Regulatory_Feature_Group'])\n",
    "X=df[['mutation','Regulatory_Feature_Group_Promoter_Associated']]\n",
    "pred=clf.predict(X)"
   ]
  },
  {
   "cell_type": "code",
   "execution_count": 14,
   "metadata": {
    "execution": {
     "iopub.execute_input": "2022-06-18T14:12:51.863280Z",
     "iopub.status.busy": "2022-06-18T14:12:51.862217Z",
     "iopub.status.idle": "2022-06-18T14:12:52.183066Z",
     "shell.execute_reply": "2022-06-18T14:12:52.182409Z",
     "shell.execute_reply.started": "2022-06-18T05:18:03.567595Z"
    },
    "papermill": {
     "duration": 0.344147,
     "end_time": "2022-06-18T14:12:52.183200",
     "exception": false,
     "start_time": "2022-06-18T14:12:51.839053",
     "status": "completed"
    },
    "tags": []
   },
   "outputs": [
    {
     "data": {
      "text/html": [
       "<div>\n",
       "<style scoped>\n",
       "    .dataframe tbody tr th:only-of-type {\n",
       "        vertical-align: middle;\n",
       "    }\n",
       "\n",
       "    .dataframe tbody tr th {\n",
       "        vertical-align: top;\n",
       "    }\n",
       "\n",
       "    .dataframe thead th {\n",
       "        text-align: right;\n",
       "    }\n",
       "</style>\n",
       "<table border=\"1\" class=\"dataframe\">\n",
       "  <thead>\n",
       "    <tr style=\"text-align: right;\">\n",
       "      <th></th>\n",
       "      <th>CHR</th>\n",
       "      <th>MAPINFO</th>\n",
       "      <th>UCSC_CpG_Islands_Name</th>\n",
       "      <th>UCSC_RefGene_Group</th>\n",
       "      <th>Relation_to_UCSC_CpG_Island</th>\n",
       "      <th>Forward_Sequence</th>\n",
       "      <th>seq</th>\n",
       "      <th>CG</th>\n",
       "      <th>TG</th>\n",
       "      <th>CA</th>\n",
       "      <th>mutation</th>\n",
       "      <th>Regulatory_Feature_Group_Gene_Associated</th>\n",
       "      <th>Regulatory_Feature_Group_Gene_Associated_Cell_type_specific</th>\n",
       "      <th>Regulatory_Feature_Group_NonGene_Associated</th>\n",
       "      <th>Regulatory_Feature_Group_NonGene_Associated_Cell_type_specific</th>\n",
       "      <th>Regulatory_Feature_Group_Promoter_Associated</th>\n",
       "      <th>Regulatory_Feature_Group_Promoter_Associated_Cell_type_specific</th>\n",
       "      <th>Regulatory_Feature_Group_Unclassified</th>\n",
       "      <th>Regulatory_Feature_Group_Unclassified_Cell_type_specific</th>\n",
       "      <th>Beta</th>\n",
       "    </tr>\n",
       "    <tr>\n",
       "      <th>Id</th>\n",
       "      <th></th>\n",
       "      <th></th>\n",
       "      <th></th>\n",
       "      <th></th>\n",
       "      <th></th>\n",
       "      <th></th>\n",
       "      <th></th>\n",
       "      <th></th>\n",
       "      <th></th>\n",
       "      <th></th>\n",
       "      <th></th>\n",
       "      <th></th>\n",
       "      <th></th>\n",
       "      <th></th>\n",
       "      <th></th>\n",
       "      <th></th>\n",
       "      <th></th>\n",
       "      <th></th>\n",
       "      <th></th>\n",
       "      <th></th>\n",
       "    </tr>\n",
       "  </thead>\n",
       "  <tbody>\n",
       "    <tr>\n",
       "      <th>cg00007981</th>\n",
       "      <td>11</td>\n",
       "      <td>93862594</td>\n",
       "      <td>chr11:93861560-93862773</td>\n",
       "      <td>1stExon</td>\n",
       "      <td>Island</td>\n",
       "      <td>AGCCCACGGAGCCCAAGTTCAAGGGGCTGCGACTGGAGCTGGCTGT...</td>\n",
       "      <td>CACACTCACTACCGTTTCCGCGCCACCCTCTCACGCGGAGCTCCTG...</td>\n",
       "      <td>86</td>\n",
       "      <td>74</td>\n",
       "      <td>51</td>\n",
       "      <td>0.726744</td>\n",
       "      <td>False</td>\n",
       "      <td>False</td>\n",
       "      <td>False</td>\n",
       "      <td>False</td>\n",
       "      <td>False</td>\n",
       "      <td>False</td>\n",
       "      <td>False</td>\n",
       "      <td>False</td>\n",
       "      <td>0</td>\n",
       "    </tr>\n",
       "  </tbody>\n",
       "</table>\n",
       "</div>"
      ],
      "text/plain": [
       "            CHR   MAPINFO    UCSC_CpG_Islands_Name UCSC_RefGene_Group  \\\n",
       "Id                                                                      \n",
       "cg00007981   11  93862594  chr11:93861560-93862773            1stExon   \n",
       "\n",
       "           Relation_to_UCSC_CpG_Island  \\\n",
       "Id                                       \n",
       "cg00007981                      Island   \n",
       "\n",
       "                                             Forward_Sequence  \\\n",
       "Id                                                              \n",
       "cg00007981  AGCCCACGGAGCCCAAGTTCAAGGGGCTGCGACTGGAGCTGGCTGT...   \n",
       "\n",
       "                                                          seq  CG  TG  CA  \\\n",
       "Id                                                                          \n",
       "cg00007981  CACACTCACTACCGTTTCCGCGCCACCCTCTCACGCGGAGCTCCTG...  86  74  51   \n",
       "\n",
       "            mutation  Regulatory_Feature_Group_Gene_Associated  \\\n",
       "Id                                                               \n",
       "cg00007981  0.726744                                     False   \n",
       "\n",
       "            Regulatory_Feature_Group_Gene_Associated_Cell_type_specific  \\\n",
       "Id                                                                        \n",
       "cg00007981                                              False             \n",
       "\n",
       "            Regulatory_Feature_Group_NonGene_Associated  \\\n",
       "Id                                                        \n",
       "cg00007981                                        False   \n",
       "\n",
       "            Regulatory_Feature_Group_NonGene_Associated_Cell_type_specific  \\\n",
       "Id                                                                           \n",
       "cg00007981                                              False                \n",
       "\n",
       "            Regulatory_Feature_Group_Promoter_Associated  \\\n",
       "Id                                                         \n",
       "cg00007981                                         False   \n",
       "\n",
       "            Regulatory_Feature_Group_Promoter_Associated_Cell_type_specific  \\\n",
       "Id                                                                            \n",
       "cg00007981                                              False                 \n",
       "\n",
       "            Regulatory_Feature_Group_Unclassified  \\\n",
       "Id                                                  \n",
       "cg00007981                                  False   \n",
       "\n",
       "            Regulatory_Feature_Group_Unclassified_Cell_type_specific  Beta  \n",
       "Id                                                                          \n",
       "cg00007981                                              False            0  "
      ]
     },
     "execution_count": 14,
     "metadata": {},
     "output_type": "execute_result"
    }
   ],
   "source": [
    "df['Beta']=pred\n",
    "df[['Beta']].to_csv('solution.csv')\n",
    "df.head(1)"
   ]
  },
  {
   "cell_type": "code",
   "execution_count": null,
   "metadata": {
    "papermill": {
     "duration": 0.020365,
     "end_time": "2022-06-18T14:12:52.225126",
     "exception": false,
     "start_time": "2022-06-18T14:12:52.204761",
     "status": "completed"
    },
    "tags": []
   },
   "outputs": [
    {
     "data": {
      "text/plain": [
       "['methylation_model3.pkl']"
      ]
     },
     "execution_count": 15,
     "metadata": {},
     "output_type": "execute_result"
    }
   ],
   "source": [
    "import joblib\n",
    "\n",
    "# Replace `model` with your trained model object\n",
    "joblib.dump(clf, 'logistic_regression_model.pkl')\n",
    "joblib.dump(clf1, 'decision_tree_model.pkl')\n",
    "joblib.dump(clf2, 'random_forest_model.pkl')\n",
    "joblib.dump(clf3, 'kneighbours_model.pkl')\n"
   ]
  }
 ],
 "metadata": {
  "kernelspec": {
   "display_name": "venv",
   "language": "python",
   "name": "python3"
  },
  "language_info": {
   "codemirror_mode": {
    "name": "ipython",
    "version": 3
   },
   "file_extension": ".py",
   "mimetype": "text/x-python",
   "name": "python",
   "nbconvert_exporter": "python",
   "pygments_lexer": "ipython3",
   "version": "3.13.3"
  },
  "papermill": {
   "duration": 14.408418,
   "end_time": "2022-06-18T14:12:52.357067",
   "environment_variables": {},
   "exception": null,
   "input_path": "__notebook__.ipynb",
   "output_path": "__notebook__.ipynb",
   "parameters": {},
   "start_time": "2022-06-18T14:12:37.948649",
   "version": "2.1.0"
  }
 },
 "nbformat": 4,
 "nbformat_minor": 4
}
